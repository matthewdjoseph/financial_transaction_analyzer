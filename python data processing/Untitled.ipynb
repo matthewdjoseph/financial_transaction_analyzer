{
 "cells": [
  {
   "cell_type": "code",
   "execution_count": 2,
   "metadata": {},
   "outputs": [
    {
     "name": "stdout",
     "output_type": "stream",
     "text": [
      "         step      type      amount     nameOrig  oldbalanceOrg  \\\n",
      "0           1   PAYMENT     9839.64  C1231006815      170136.00   \n",
      "1           1   PAYMENT     1864.28  C1666544295       21249.00   \n",
      "2           1  TRANSFER      181.00  C1305486145         181.00   \n",
      "3           1  CASH_OUT      181.00   C840083671         181.00   \n",
      "4           1   PAYMENT    11668.14  C2048537720       41554.00   \n",
      "...       ...       ...         ...          ...            ...   \n",
      "6362615   743  CASH_OUT   339682.13   C786484425      339682.13   \n",
      "6362616   743  TRANSFER  6311409.28  C1529008245     6311409.28   \n",
      "6362617   743  CASH_OUT  6311409.28  C1162922333     6311409.28   \n",
      "6362618   743  TRANSFER   850002.52  C1685995037      850002.52   \n",
      "6362619   743  CASH_OUT   850002.52  C1280323807      850002.52   \n",
      "\n",
      "         newbalanceOrig     nameDest  oldbalanceDest  newbalanceDest  isFraud  \\\n",
      "0             160296.36  M1979787155            0.00            0.00        0   \n",
      "1              19384.72  M2044282225            0.00            0.00        0   \n",
      "2                  0.00   C553264065            0.00            0.00        1   \n",
      "3                  0.00    C38997010        21182.00            0.00        1   \n",
      "4              29885.86  M1230701703            0.00            0.00        0   \n",
      "...                 ...          ...             ...             ...      ...   \n",
      "6362615            0.00   C776919290            0.00       339682.13        1   \n",
      "6362616            0.00  C1881841831            0.00            0.00        1   \n",
      "6362617            0.00  C1365125890        68488.84      6379898.11        1   \n",
      "6362618            0.00  C2080388513            0.00            0.00        1   \n",
      "6362619            0.00   C873221189      6510099.11      7360101.63        1   \n",
      "\n",
      "         isFlaggedFraud  \n",
      "0                     0  \n",
      "1                     0  \n",
      "2                     0  \n",
      "3                     0  \n",
      "4                     0  \n",
      "...                 ...  \n",
      "6362615               0  \n",
      "6362616               0  \n",
      "6362617               0  \n",
      "6362618               0  \n",
      "6362619               0  \n",
      "\n",
      "[6362620 rows x 11 columns]\n"
     ]
    }
   ],
   "source": [
    "import pandas as pd \n",
    "import MySQLdb\n",
    "\n",
    "df = pd.read_csv (r'C:\\Users\\mdjos\\workspaces\\financial_transaction_analyzer\\dataset\\PS_20174392719_1491204439457_log.csv')\n",
    "\n",
    "con = MySQLdb.connect()"
   ]
  },
  {
   "cell_type": "code",
   "execution_count": null,
   "metadata": {},
   "outputs": [],
   "source": []
  },
  {
   "cell_type": "code",
   "execution_count": null,
   "metadata": {},
   "outputs": [],
   "source": []
  }
 ],
 "metadata": {
  "kernelspec": {
   "display_name": "Python 3",
   "language": "python",
   "name": "python3"
  },
  "language_info": {
   "codemirror_mode": {
    "name": "ipython",
    "version": 3
   },
   "file_extension": ".py",
   "mimetype": "text/x-python",
   "name": "python",
   "nbconvert_exporter": "python",
   "pygments_lexer": "ipython3",
   "version": "3.7.6"
  }
 },
 "nbformat": 4,
 "nbformat_minor": 4
}
